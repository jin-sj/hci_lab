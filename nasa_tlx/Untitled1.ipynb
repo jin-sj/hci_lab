{
 "cells": [
  {
   "cell_type": "code",
   "execution_count": null,
   "metadata": {},
   "outputs": [],
   "source": []
  },
  {
   "cell_type": "code",
   "execution_count": null,
   "metadata": {},
   "outputs": [],
   "source": [
    "RoundingTimes <-\n",
    "matrix(c(5.40, 5.50, 5.55,\n",
    "         5.85, 5.70, 5.75,\n",
    "         5.20, 5.60, 5.50,\n",
    "         5.55, 5.50, 5.40,\n",
    "         5.90, 5.85, 5.70,\n",
    "         5.45, 5.55, 5.60,\n",
    "         5.40, 5.40, 5.35,\n",
    "         5.45, 5.50, 5.35,\n",
    "         5.25, 5.15, 5.00,\n",
    "         5.85, 5.80, 5.70,\n",
    "         5.25, 5.20, 5.10,\n",
    "         5.65, 5.55, 5.45,\n",
    "         5.60, 5.35, 5.45,\n",
    "         5.05, 5.00, 4.95,\n",
    "         5.50, 5.50, 5.40,\n",
    "         5.45, 5.55, 5.50,\n",
    "         5.55, 5.55, 5.35,\n",
    "         5.45, 5.50, 5.55,\n",
    "         5.50, 5.45, 5.25,\n",
    "         5.65, 5.60, 5.40,\n",
    "         5.70, 5.65, 5.55,\n",
    "         6.30, 6.30, 6.25),\n",
    "       nrow = 22,\n",
    "       byrow = TRUE,\n",
    "       dimnames = list(1 : 22,\n",
    "                       c(\"Round Out\", \"Narrow Angle\", \"Wide Angle\")))"
   ]
  },
  {
   "cell_type": "code",
   "execution_count": null,
   "metadata": {},
   "outputs": [],
   "source": []
  }
 ],
 "metadata": {
  "kernelspec": {
   "display_name": "R",
   "language": "R",
   "name": "ir"
  }
 },
 "nbformat": 4,
 "nbformat_minor": 2
}
