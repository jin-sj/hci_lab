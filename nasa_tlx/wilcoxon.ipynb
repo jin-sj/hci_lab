{
 "cells": [
  {
   "cell_type": "markdown",
   "metadata": {},
   "source": [
    "Get Z and effect size for wilcoxon test"
   ]
  },
  {
   "cell_type": "code",
   "execution_count": 83,
   "metadata": {},
   "outputs": [],
   "source": [
    "import pandas as pd\n",
    "from scipy.stats import friedmanchisquare, wilcoxon\n",
    "from scipy import stats\n",
    "import math\n",
    "import statsmodels.stats.descriptivestats as ols"
   ]
  },
  {
   "cell_type": "code",
   "execution_count": 79,
   "metadata": {},
   "outputs": [],
   "source": [
    "from statsmodels import stats"
   ]
  },
  {
   "cell_type": "code",
   "execution_count": 124,
   "metadata": {},
   "outputs": [],
   "source": [
    "df_ai = pd.read_csv('/Users/sjjin/workspace/hci_lab/nasa_tlx/nasa_tlx_w_ai.csv', index_col=0)\n",
    "df_wo_ai = pd.read_csv('/Users/sjjin/workspace/hci_lab/nasa_tlx/nasa_tlx_wo_ai.csv', index_col=0)"
   ]
  },
  {
   "cell_type": "code",
   "execution_count": 23,
   "metadata": {},
   "outputs": [
    {
     "data": {
      "text/plain": [
       "22"
      ]
     },
     "execution_count": 23,
     "metadata": {},
     "output_type": "execute_result"
    }
   ],
   "source": [
    "len(df_ai)"
   ]
  },
  {
   "cell_type": "code",
   "execution_count": 119,
   "metadata": {
    "scrolled": true
   },
   "outputs": [
    {
     "data": {
      "text/html": [
       "<div>\n",
       "<style scoped>\n",
       "    .dataframe tbody tr th:only-of-type {\n",
       "        vertical-align: middle;\n",
       "    }\n",
       "\n",
       "    .dataframe tbody tr th {\n",
       "        vertical-align: top;\n",
       "    }\n",
       "\n",
       "    .dataframe thead th {\n",
       "        text-align: right;\n",
       "    }\n",
       "</style>\n",
       "<table border=\"1\" class=\"dataframe\">\n",
       "  <thead>\n",
       "    <tr style=\"text-align: right;\">\n",
       "      <th></th>\n",
       "      <th>Participant ID</th>\n",
       "      <th>Video</th>\n",
       "      <th>Mental Demand</th>\n",
       "      <th>Physical Demand</th>\n",
       "      <th>Temporal Demand</th>\n",
       "      <th>Performance</th>\n",
       "      <th>Effort</th>\n",
       "      <th>Frustration</th>\n",
       "    </tr>\n",
       "  </thead>\n",
       "  <tbody>\n",
       "    <tr>\n",
       "      <th>1</th>\n",
       "      <td>10</td>\n",
       "      <td>CCC</td>\n",
       "      <td>85</td>\n",
       "      <td>20</td>\n",
       "      <td>100</td>\n",
       "      <td>45</td>\n",
       "      <td>80</td>\n",
       "      <td>80</td>\n",
       "    </tr>\n",
       "    <tr>\n",
       "      <th>2</th>\n",
       "      <td>12</td>\n",
       "      <td>CCC</td>\n",
       "      <td>40</td>\n",
       "      <td>0</td>\n",
       "      <td>10</td>\n",
       "      <td>20</td>\n",
       "      <td>25</td>\n",
       "      <td>5</td>\n",
       "    </tr>\n",
       "    <tr>\n",
       "      <th>3</th>\n",
       "      <td>14</td>\n",
       "      <td>CCC</td>\n",
       "      <td>80</td>\n",
       "      <td>10</td>\n",
       "      <td>70</td>\n",
       "      <td>25</td>\n",
       "      <td>70</td>\n",
       "      <td>15</td>\n",
       "    </tr>\n",
       "    <tr>\n",
       "      <th>4</th>\n",
       "      <td>15</td>\n",
       "      <td>CCC</td>\n",
       "      <td>90</td>\n",
       "      <td>85</td>\n",
       "      <td>10</td>\n",
       "      <td>5</td>\n",
       "      <td>95</td>\n",
       "      <td>75</td>\n",
       "    </tr>\n",
       "    <tr>\n",
       "      <th>5</th>\n",
       "      <td>18</td>\n",
       "      <td>CCC</td>\n",
       "      <td>30</td>\n",
       "      <td>10</td>\n",
       "      <td>0</td>\n",
       "      <td>10</td>\n",
       "      <td>60</td>\n",
       "      <td>10</td>\n",
       "    </tr>\n",
       "  </tbody>\n",
       "</table>\n",
       "</div>"
      ],
      "text/plain": [
       "   Participant ID Video  Mental Demand  Physical Demand  Temporal Demand  \\\n",
       "1              10   CCC             85               20              100   \n",
       "2              12   CCC             40                0               10   \n",
       "3              14   CCC             80               10               70   \n",
       "4              15   CCC             90               85               10   \n",
       "5              18   CCC             30               10                0   \n",
       "\n",
       "   Performance  Effort  Frustration  \n",
       "1           45      80           80  \n",
       "2           20      25            5  \n",
       "3           25      70           15  \n",
       "4            5      95           75  \n",
       "5           10      60           10  "
      ]
     },
     "execution_count": 119,
     "metadata": {},
     "output_type": "execute_result"
    }
   ],
   "source": [
    "df_wo_ai.head(5)"
   ]
  },
  {
   "cell_type": "code",
   "execution_count": 120,
   "metadata": {},
   "outputs": [
    {
     "data": {
      "text/html": [
       "<div>\n",
       "<style scoped>\n",
       "    .dataframe tbody tr th:only-of-type {\n",
       "        vertical-align: middle;\n",
       "    }\n",
       "\n",
       "    .dataframe tbody tr th {\n",
       "        vertical-align: top;\n",
       "    }\n",
       "\n",
       "    .dataframe thead th {\n",
       "        text-align: right;\n",
       "    }\n",
       "</style>\n",
       "<table border=\"1\" class=\"dataframe\">\n",
       "  <thead>\n",
       "    <tr style=\"text-align: right;\">\n",
       "      <th></th>\n",
       "      <th>Participant ID</th>\n",
       "      <th>Video</th>\n",
       "      <th>Mental Demand</th>\n",
       "      <th>Physical Demand</th>\n",
       "      <th>Temporal Demand</th>\n",
       "      <th>Performance</th>\n",
       "      <th>Effort</th>\n",
       "      <th>Frustration</th>\n",
       "    </tr>\n",
       "  </thead>\n",
       "  <tbody>\n",
       "    <tr>\n",
       "      <th>1</th>\n",
       "      <td>11</td>\n",
       "      <td>CCC</td>\n",
       "      <td>65</td>\n",
       "      <td>5</td>\n",
       "      <td>25</td>\n",
       "      <td>0</td>\n",
       "      <td>75</td>\n",
       "      <td>0</td>\n",
       "    </tr>\n",
       "    <tr>\n",
       "      <th>2</th>\n",
       "      <td>13</td>\n",
       "      <td>CCC</td>\n",
       "      <td>15</td>\n",
       "      <td>25</td>\n",
       "      <td>30</td>\n",
       "      <td>25</td>\n",
       "      <td>25</td>\n",
       "      <td>5</td>\n",
       "    </tr>\n",
       "    <tr>\n",
       "      <th>3</th>\n",
       "      <td>16</td>\n",
       "      <td>CCC</td>\n",
       "      <td>0</td>\n",
       "      <td>5</td>\n",
       "      <td>5</td>\n",
       "      <td>5</td>\n",
       "      <td>0</td>\n",
       "      <td>5</td>\n",
       "    </tr>\n",
       "    <tr>\n",
       "      <th>4</th>\n",
       "      <td>17</td>\n",
       "      <td>CCC</td>\n",
       "      <td>30</td>\n",
       "      <td>10</td>\n",
       "      <td>0</td>\n",
       "      <td>15</td>\n",
       "      <td>25</td>\n",
       "      <td>0</td>\n",
       "    </tr>\n",
       "    <tr>\n",
       "      <th>5</th>\n",
       "      <td>1</td>\n",
       "      <td>CCC</td>\n",
       "      <td>60</td>\n",
       "      <td>0</td>\n",
       "      <td>65</td>\n",
       "      <td>15</td>\n",
       "      <td>45</td>\n",
       "      <td>10</td>\n",
       "    </tr>\n",
       "  </tbody>\n",
       "</table>\n",
       "</div>"
      ],
      "text/plain": [
       "   Participant ID Video  Mental Demand  Physical Demand  Temporal Demand  \\\n",
       "1              11   CCC             65                5               25   \n",
       "2              13   CCC             15               25               30   \n",
       "3              16   CCC              0                5                5   \n",
       "4              17   CCC             30               10                0   \n",
       "5               1   CCC             60                0               65   \n",
       "\n",
       "   Performance  Effort  Frustration  \n",
       "1            0      75            0  \n",
       "2           25      25            5  \n",
       "3            5       0            5  \n",
       "4           15      25            0  \n",
       "5           15      45           10  "
      ]
     },
     "execution_count": 120,
     "metadata": {},
     "output_type": "execute_result"
    }
   ],
   "source": [
    "df_ai.head(5)"
   ]
  },
  {
   "cell_type": "code",
   "execution_count": 14,
   "metadata": {},
   "outputs": [],
   "source": [
    "columns = df_ai.columns[2:]"
   ]
  },
  {
   "cell_type": "code",
   "execution_count": 15,
   "metadata": {
    "scrolled": true
   },
   "outputs": [
    {
     "data": {
      "text/plain": [
       "Index(['Mental Demand', 'Physical Demand', 'Temporal Demand', 'Performance',\n",
       "       'Effort', 'Frustration'],\n",
       "      dtype='object')"
      ]
     },
     "execution_count": 15,
     "metadata": {},
     "output_type": "execute_result"
    }
   ],
   "source": [
    "columns"
   ]
  },
  {
   "cell_type": "code",
   "execution_count": 84,
   "metadata": {},
   "outputs": [
    {
     "data": {
      "text/plain": [
       "(10.5, 9.5367431640625e-07)"
      ]
     },
     "execution_count": 84,
     "metadata": {},
     "output_type": "execute_result"
    }
   ],
   "source": [
    "ols.sign_test(df_ai['Mental Demand'])"
   ]
  },
  {
   "cell_type": "code",
   "execution_count": 132,
   "metadata": {},
   "outputs": [],
   "source": [
    "\"\"\"Test for normality\n",
    "Reject if p < 0.05, that the values aren't from a normal distribution\n",
    "\"\"\"\n",
    "def get_shapiro_stats(df, columns, ai):\n",
    "    print(\"Shapiro test for normality\")\n",
    "    not_rejected = []\n",
    "    rejected = []\n",
    "    if ai:\n",
    "        print('With AI')\n",
    "    else:\n",
    "        print(\"Without AI\")\n",
    "    for col in columns:\n",
    "        W, p = stats.shapiro(df[col])\n",
    "        if p < 0.05:\n",
    "            #print(\"**Reject H0 %s\" % col)\n",
    "            print(\"reject col: %s, W:%s,p: %s\\n\" % (col, W, p))\n",
    "            rejected.append(col)\n",
    "        else:\n",
    "            #print(\"**Fail to reject H0 %s\" % col)\n",
    "            print(\"col: %s, W:%s, p: %s\\n\" % (col, W, p))\n",
    "            not_rejected.append(col)\n",
    "            \n",
    "\n",
    "    print(\"rejected %s\" % rejected)\n",
    "    print(\"not rejected %s\" % not_rejected)"
   ]
  },
  {
   "cell_type": "code",
   "execution_count": 129,
   "metadata": {},
   "outputs": [
    {
     "name": "stdout",
     "output_type": "stream",
     "text": [
      "[65, 15, 0, 30, 60, 75, 70, 30, 25, 45, 20, 20, 90, 25, 45, 65, 25, 20, 65, 60, 65, 40]\n"
     ]
    }
   ],
   "source": [
    "print(list(df_ai['Mental Demand']))"
   ]
  },
  {
   "cell_type": "code",
   "execution_count": 133,
   "metadata": {},
   "outputs": [
    {
     "name": "stdout",
     "output_type": "stream",
     "text": [
      "Shapiro test for normality\n",
      "With AI\n",
      "col: Mental Demand, W:0.9436333775520325, p: 0.23503226041793823\n",
      "\n",
      "reject col: Physical Demand, W:0.8109356164932251,p: 0.0007457808242179453\n",
      "\n",
      "col: Temporal Demand, W:0.9383642077445984, p: 0.18310892581939697\n",
      "\n",
      "reject col: Performance, W:0.8015027046203613,p: 0.0005282271886244416\n",
      "\n",
      "col: Effort, W:0.9705166220664978, p: 0.7229670286178589\n",
      "\n",
      "reject col: Frustration, W:0.8730742931365967,p: 0.008934784680604935\n",
      "\n",
      "rejected ['Physical Demand', 'Performance', 'Frustration']\n",
      "not rejected ['Mental Demand', 'Temporal Demand', 'Effort']\n"
     ]
    }
   ],
   "source": [
    "get_shapiro_stats(df_ai, columns, True)"
   ]
  },
  {
   "cell_type": "code",
   "execution_count": 134,
   "metadata": {
    "scrolled": true
   },
   "outputs": [
    {
     "name": "stdout",
     "output_type": "stream",
     "text": [
      "Shapiro test for normality\n",
      "Without AI\n",
      "reject col: Mental Demand, W:0.8962306380271912,p: 0.02500559203326702\n",
      "\n",
      "reject col: Physical Demand, W:0.7686020135879517,p: 0.0001678814587648958\n",
      "\n",
      "col: Temporal Demand, W:0.9337881803512573, p: 0.14713583886623383\n",
      "\n",
      "col: Performance, W:0.9469814300537109, p: 0.2748503088951111\n",
      "\n",
      "col: Effort, W:0.9700272083282471, p: 0.7116779685020447\n",
      "\n",
      "col: Frustration, W:0.9138799905776978, p: 0.0568423792719841\n",
      "\n",
      "rejected ['Mental Demand', 'Physical Demand']\n",
      "not rejected ['Temporal Demand', 'Performance', 'Effort', 'Frustration']\n"
     ]
    }
   ],
   "source": [
    "get_shapiro_stats(df_wo_ai, columns, False)"
   ]
  },
  {
   "cell_type": "code",
   "execution_count": 141,
   "metadata": {},
   "outputs": [],
   "source": [
    "\"\"\"Convert two-tailed p to z\"\"\"\n",
    "def normz(p):\n",
    "    #return stats.norm.ppf(p)\n",
    "    return stats.norm.ppf((1+p)/2)"
   ]
  },
  {
   "cell_type": "code",
   "execution_count": 55,
   "metadata": {},
   "outputs": [],
   "source": [
    "def get_effect_size(z, n):\n",
    "    return z / math.sqrt(n)"
   ]
  },
  {
   "cell_type": "code",
   "execution_count": 139,
   "metadata": {},
   "outputs": [],
   "source": [
    "\"\"\"Wilcoxon. Assumes normality of data\n",
    "p < 0.05: Not from same distribution\n",
    "p > 0.05: From same distribution.\n",
    "\"\"\"\n",
    "def get_wilcoxon_stats(df1, df2, columns):\n",
    "    print(\"Shapiro test for normality\")\n",
    "    not_rejected = []\n",
    "    rejected = []\n",
    "\n",
    "    for col in columns:\n",
    "        statistic, p = stats.wilcoxon(df_ai[col], df_wo_ai[col])\n",
    "        z = normz(p)\n",
    "        effect_size = get_effect_size(z, len(df_ai[col]))\n",
    "        alpha = 0.05\n",
    "        if p < alpha:\n",
    "            #print(\"**Reject H0 %s\" % col)\n",
    "            print('Different distribution (reject H0)')\n",
    "            print(\"col: %s, W: %0.6f, p: %0.6f, z: %0.6f, effect_size: %0.6f\\n\" % (col, W, p, z, effect_size))\n",
    "            rejected.append(col)\n",
    "        else:\n",
    "            print('Same distribution (fail to reject H0)')\n",
    "            #print(\"**Fail to reject H0 %s\" % col)\n",
    "            print(\"col: %s, W: %0.6f, p: %0.6f, z: %0.6f, effect_size: %0.6f\\n\" % (col, W, p, z, effect_size))\n",
    "\n",
    "            not_rejected.append(col)\n",
    "            \n",
    "\n",
    "    print(\"rejected %s\" % rejected)\n",
    "    print(\"not rejected %s\" % not_rejected)"
   ]
  },
  {
   "cell_type": "code",
   "execution_count": 142,
   "metadata": {},
   "outputs": [
    {
     "name": "stdout",
     "output_type": "stream",
     "text": [
      "Shapiro test for normality\n",
      "Different distribution (reject H0)\n",
      "col: Mental Demand, W: 0.873074, p: 0.012898, z: -2.229268, effect_size: -0.475282\n",
      "\n",
      "Same distribution (fail to reject H0)\n",
      "col: Physical Demand, W: 0.873074, p: 0.524822, z: 0.062259, effect_size: 0.013274\n",
      "\n",
      "Same distribution (fail to reject H0)\n",
      "col: Temporal Demand, W: 0.873074, p: 0.148563, z: -1.042616, effect_size: -0.222287\n",
      "\n",
      "Same distribution (fail to reject H0)\n",
      "col: Performance, W: 0.873074, p: 0.721867, z: 0.588396, effect_size: 0.125446\n",
      "\n",
      "Different distribution (reject H0)\n",
      "col: Effort, W: 0.873074, p: 0.029263, z: -1.891741, effect_size: -0.403320\n",
      "\n",
      "Different distribution (reject H0)\n",
      "col: Frustration, W: 0.873074, p: 0.013899, z: -2.200132, effect_size: -0.469070\n",
      "\n",
      "rejected ['Mental Demand', 'Effort', 'Frustration']\n",
      "not rejected ['Physical Demand', 'Temporal Demand', 'Performance']\n"
     ]
    }
   ],
   "source": [
    "get_wilcoxon_stats(df_ai, df_wo_ai, columns)"
   ]
  },
  {
   "cell_type": "code",
   "execution_count": 21,
   "metadata": {},
   "outputs": [
    {
     "data": {
      "image/png": "[encoded data removed]",
      "text/plain": [
       "<Figure size 864x576 with 1 Axes>"
      ]
     },
     "metadata": {
      "needs_background": "light"
     },
     "output_type": "display_data"
    }
   ],
   "source": [
    "boxplot = df_ai.boxplot(columns[0], by='Video', figsize=(12, 8))"
   ]
  },
  {
   "cell_type": "code",
   "execution_count": null,
   "metadata": {},
   "outputs": [],
   "source": []
  }
 ],
 "metadata": {
  "kernelspec": {
   "display_name": "Python 3",
   "language": "python",
   "name": "python3"
  },
  "language_info": {
   "codemirror_mode": {
    "name": "ipython",
    "version": 3
   },
   "file_extension": ".py",
   "mimetype": "text/x-python",
   "name": "python",
   "nbconvert_exporter": "python",
   "pygments_lexer": "ipython3",
   "version": "3.7.3"
  }
 },
 "nbformat": 4,
 "nbformat_minor": 2
}
