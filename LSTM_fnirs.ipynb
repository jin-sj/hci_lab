{
 "cells": [
  {
   "cell_type": "code",
   "execution_count": 1,
   "metadata": {},
   "outputs": [],
   "source": [
    "import datetime\n",
    "import numpy as np\n",
    "import os\n",
    "import pandas as pd\n",
    "from pandas import Series\n",
    "\n",
    "#from lstm.ivie_data import BiRNN\n",
    "import torch\n",
    "import torch.nn as nn\n",
    "import torch.nn.functional as F\n",
    "from torch.utils.data import Dataset\n",
    "from torch.autograd import Variable\n",
    "\n",
    "from sklearn.metrics import accuracy_score, confusion_matrix\n",
    "from lstm import ivie_data"
   ]
  },
  {
   "cell_type": "code",
   "execution_count": 2,
   "metadata": {},
   "outputs": [
    {
     "data": {
      "text/plain": [
       "False"
      ]
     },
     "execution_count": 2,
     "metadata": {},
     "output_type": "execute_result"
    }
   ],
   "source": [
    "cuda_enabled = torch.cuda.is_available()\n",
    "device = torch.device('cuda' if torch.cuda.is_available() else 'cpu')\n",
    "cuda_enabled"
   ]
  },
  {
   "cell_type": "code",
   "execution_count": 3,
   "metadata": {},
   "outputs": [],
   "source": [
    "BASELINE_START = \"baselinestart\"\n",
    "BASELINE_END = \"baselineend\"\n",
    "EASY_START = \"easystart\"\n",
    "EASY_END = \"easyend\"\n",
    "HARD_START = \"hardstart\"\n",
    "HARD_END = \"hardend\"\n",
    "\n",
    "INPUT_SIZE = 352 # determined by the shortest test sample\n",
    "\n",
    "EASY_DIFFICULTY = 0\n",
    "HARD_DIFFICULTY = 1"
   ]
  },
  {
   "cell_type": "code",
   "execution_count": 4,
   "metadata": {},
   "outputs": [],
   "source": [
    "\"\"\"Gets the row blocks for easy and hard tasks\n",
    "\"\"\"\n",
    "def read_data(fnirs_path, marker_path):\n",
    "    fnirs_df =  pd.read_csv(fnirs_path, sep='\\t', skiprows=range(4), index_col=False)\n",
    "    marker_df = pd.read_csv(marker_path, sep='\\t', skiprows=range(4), index_col=False)\n",
    "    \n",
    "    merged_df = pd.merge(fnirs_df, marker_df, on=\"Matlab_now\", how=\"left\")\n",
    "    \n",
    "    return merged_df"
   ]
  },
  {
   "cell_type": "code",
   "execution_count": 5,
   "metadata": {},
   "outputs": [],
   "source": [
    "def get_row_blocks(merged_df):\n",
    "    easy_start_rows = merged_df.index[merged_df.Stimulus_Label == EASY_START].tolist()\n",
    "    easy_end_rows = merged_df.index[merged_df.Stimulus_Label == EASY_END].tolist()\n",
    "    hard_start_rows = merged_df.index[merged_df.Stimulus_Label == HARD_START].tolist()\n",
    "    hard_end_rows = merged_df.index[merged_df.Stimulus_Label == HARD_END].tolist()\n",
    "    \n",
    "    easy_rows = list(zip(easy_start_rows, easy_end_rows))\n",
    "    hard_rows = list(zip(hard_start_rows, hard_end_rows))\n",
    "    \n",
    "    return (easy_rows, hard_rows)"
   ]
  },
  {
   "cell_type": "code",
   "execution_count": 6,
   "metadata": {},
   "outputs": [],
   "source": [
    "\"\"\"Return subset of df determined by the indices of the row blocks\n",
    "\"\"\"\n",
    "def get_subsets(merged_df, row_blocks, difficulty):\n",
    "    tables = []\n",
    "    column_names = [\"Matlab_now\", \"A-DC1\", \"A-DC2\", \"A-DC3\", \"A-DC4\", \"A-DC5\",\n",
    "                    \"A-DC6\", \"A-DC7\", \"A-DC8\", \"B-DC1\", \"B-DC2\", \"B-DC3\", \n",
    "                    \"B-DC4\", \"B-DC5\", \"B-DC6\", \"B-DC7\", \"B-DC8\"]\n",
    "    column_indices = [merged_df.columns.get_loc(c) for c in column_names]\n",
    "    for row_block in row_blocks:\n",
    "        df = merged_df.iloc[row_block[0]:row_block[1], column_indices]\n",
    "        start_time = df.iloc[0][\"Matlab_now\"]\n",
    "        df[\"Matlab_now\"] = df[\"Matlab_now\"] - start_time\n",
    "        df[\"Difficulty\"] = difficulty\n",
    "\n",
    "        tables.append(df.iloc[:INPUT_SIZE])\n",
    "    return tables"
   ]
  },
  {
   "cell_type": "code",
   "execution_count": 7,
   "metadata": {},
   "outputs": [],
   "source": [
    "\"\"\"Extract features from given dataset\n",
    "    :param data_path: Directory containing the files\n",
    "    \n",
    "    :return: gets all the easy and hard features from a given dataset\n",
    "\"\"\"\n",
    "def get_data(data_path):\n",
    "    fnirs_path = os.path.join(os.getcwd(), data_path, \"fNIRSdata.txt\")\n",
    "    marker_path = os.path.join(os.getcwd(), data_path, \"markers.txt\")\n",
    "    merged_df = read_data(fnirs_path, marker_path)\n",
    "    easy_rows, hard_rows = get_row_blocks(merged_df)\n",
    "    \n",
    "    easy_tables = get_subsets(merged_df, easy_rows, EASY_DIFFICULTY)\n",
    "    hard_tables = get_subsets(merged_df, hard_rows, HARD_DIFFICULTY)\n",
    "\n",
    "    return easy_tables, hard_tables"
   ]
  },
  {
   "cell_type": "code",
   "execution_count": 8,
   "metadata": {
    "scrolled": true
   },
   "outputs": [],
   "source": [
    "easy_tables_902, hard_tables_902 = get_data(\"data/S902/2015-02-26_11-24-48-120\")\n",
    "easy_tables_903, hard_tables_903 = get_data(\"data/S903/2015-02-27_13-20-42-120/\")"
   ]
  },
  {
   "cell_type": "code",
   "execution_count": 9,
   "metadata": {},
   "outputs": [],
   "source": [
    "train = easy_tables_902 + easy_tables_903 + hard_tables_902 + hard_tables_903"
   ]
  },
  {
   "cell_type": "code",
   "execution_count": 10,
   "metadata": {},
   "outputs": [],
   "source": [
    "columns = [\"A-DC1\", \"A-DC2\", \"A-DC3\", \"A-DC4\", \"A-DC5\",\n",
    "           \"A-DC6\", \"A-DC7\", \"A-DC8\", \"B-DC1\", \"B-DC2\", \"B-DC3\", \n",
    "           \"B-DC4\", \"B-DC5\", \"B-DC6\", \"B-DC7\", \"B-DC8\", \"Difficulty\"]"
   ]
  },
  {
   "cell_type": "code",
   "execution_count": 11,
   "metadata": {},
   "outputs": [],
   "source": [
    "train_x = [a.iloc[:,1:-1] for a in train]\n",
    "train_y = [a.iloc[0,-1] for a in train]"
   ]
  },
  {
   "cell_type": "markdown",
   "metadata": {},
   "source": [
    "torch.tensor(targets_df['targets'].values)"
   ]
  },
  {
   "cell_type": "code",
   "execution_count": 12,
   "metadata": {},
   "outputs": [
    {
     "data": {
      "text/plain": [
       "torch.Size([352, 16])"
      ]
     },
     "execution_count": 12,
     "metadata": {},
     "output_type": "execute_result"
    }
   ],
   "source": [
    "torch.tensor(train_x[0].values).shape"
   ]
  },
  {
   "cell_type": "code",
   "execution_count": 13,
   "metadata": {
    "scrolled": true
   },
   "outputs": [
    {
     "data": {
      "text/plain": [
       "tensor(0)"
      ]
     },
     "execution_count": 13,
     "metadata": {},
     "output_type": "execute_result"
    }
   ],
   "source": [
    "torch.tensor(train_y[0])"
   ]
  },
  {
   "cell_type": "code",
   "execution_count": 14,
   "metadata": {},
   "outputs": [
    {
     "data": {
      "text/plain": [
       "(352, 16)"
      ]
     },
     "execution_count": 14,
     "metadata": {},
     "output_type": "execute_result"
    }
   ],
   "source": [
    "train_x[0].shape"
   ]
  },
  {
   "cell_type": "code",
   "execution_count": 15,
   "metadata": {},
   "outputs": [],
   "source": [
    "params = {'shuffle': True,\n",
    "          'num_workers': 6}"
   ]
  },
  {
   "cell_type": "code",
   "execution_count": 16,
   "metadata": {},
   "outputs": [],
   "source": [
    "class fnirs(Dataset):\n",
    "    #Characterizes a dataset for PyTorch\n",
    "    def __init__(self, data, labels):\n",
    "        #Initialization\n",
    "        self.data = data\n",
    "        self.labels = labels\n",
    "\n",
    "    def __len__(self):\n",
    "        #Denotes the total number of samples\n",
    "        return len(self.data)\n",
    "\n",
    "    def __getitem__(self, index):\n",
    "        #Generates one sample of data\n",
    "        #x = torch.tensor(self._normalize(self.data[index]).values)\n",
    "        x = torch.tensor(self.data[index].values, dtype=torch.float32)\n",
    "\n",
    "        y = torch.tensor([self.labels[index]], dtype=torch.long)\n",
    "        #y = self.labels[index]\n",
    "\n",
    "        return x, y            \n",
    "    \n",
    "    def _normalize(self, df):\n",
    "        normalized_df=(df-df.mean())/df.std()\n",
    "        return df\n",
    "        "
   ]
  },
  {
   "cell_type": "code",
   "execution_count": 17,
   "metadata": {},
   "outputs": [],
   "source": [
    "class BiRNN(nn.Module):\n",
    "\n",
    "    def __init__(self, input_size, hidden_size, num_layers, num_classes):\n",
    "        super(BiRNN, self).__init__()\n",
    "        self.is_training = False\n",
    "        self.hidden_size = hidden_size\n",
    "        self.num_layers = num_layers\n",
    "        self.num_classes = num_classes\n",
    "        self.lstm = nn.LSTM(input_size, hidden_size, num_layers,\n",
    "                            batch_first=True, bidirectional=True)\n",
    "        self.fc = nn.Dropout(p=0.5, inplace=False)\n",
    "        self.linear = nn.Linear(self.hidden_size*2, self.num_classes)\n",
    "\n",
    "        if cuda_enabled:\n",
    "            self.lstm = self.lstm.cuda()\n",
    "            self.fc = self.fc.cuda()\n",
    "            self.linear = self.linear.cuda()\n",
    "\n",
    "    def forward(self, x): \n",
    "        # Set initial states\n",
    "        h0 = Variable(torch.zeros(self.num_layers*2, x.size(0), self.hidden_size)).to(device) # 2 for bidirection\n",
    "        c0 = Variable(torch.zeros(self.num_layers*2, x.size(0), self.hidden_size)).to(device)\n",
    "        if cuda_enabled:\n",
    "            h0 = h0.cuda()  # 2 for bidirection\n",
    "            c0 = c0.cuda()\n",
    "\n",
    "        # Forward propagate RNN\n",
    "        out, _ = self.lstm(x, (h0, c0))\n",
    "        #out, _ = self.lstm(x, h0)\n",
    "        \n",
    "        # Decode hidden state of last time step\n",
    "        if self.is_training:\n",
    "            out = self.fc(out[:, -1, :]) \n",
    "        else:\n",
    "            out = out[:, -1, :]\n",
    "\n",
    "        out = F.log_softmax(self.linear(out), dim=1)\n",
    "        return out "
   ]
  },
  {
   "cell_type": "code",
   "execution_count": 18,
   "metadata": {},
   "outputs": [
    {
     "name": "stdout",
     "output_type": "stream",
     "text": [
      "torch.float32, tensor([[[1885.0000,  478.9000,  131.2000,  ...,  114.7000,   36.3600,\n",
      "            12.6900],\n",
      "         [1896.0000,  472.0000,  131.3000,  ...,  114.9000,   36.5700,\n",
      "            12.7200],\n",
      "         [1882.0000,  478.3000,  131.8000,  ...,  114.9000,   36.4100,\n",
      "            12.7500],\n",
      "         ...,\n",
      "         [1850.0000,  464.9000,  128.3000,  ...,  113.0000,   35.5100,\n",
      "            12.2800],\n",
      "         [1833.0000,  464.7000,  129.1000,  ...,  113.5000,   35.5600,\n",
      "            12.2800],\n",
      "         [1843.0000,  461.8000,  128.4000,  ...,  113.2000,   35.6000,\n",
      "            12.3700]]])\n",
      "torch.int64, tensor([[0]])\n"
     ]
    }
   ],
   "source": [
    "data = fnirs(train_x, train_y)\n",
    "train_loader = torch.utils.data.DataLoader(data, batch_size=1, shuffle=False)\n",
    "for i, (x, y) in enumerate(train_loader):\n",
    "    print(\"%s, %s\" % (x.dtype, x))\n",
    "    print(\"%s, %s\" % (y.dtype, y))\n",
    "    break\n",
    "    "
   ]
  },
  {
   "cell_type": "code",
   "execution_count": 40,
   "metadata": {
    "scrolled": true
   },
   "outputs": [
    {
     "name": "stdout",
     "output_type": "stream",
     "text": [
      "Epoch 0\n",
      "Current epoch loss: 4.1657\n",
      "Epoch loss: 5.0000\n",
      "Epoch 1\n",
      "Current epoch loss: 4.1863\n",
      "Epoch loss: 4.1657\n",
      "Epoch 2\n",
      "Current epoch loss: 4.1758\n",
      "Epoch loss: 4.1863\n",
      "Epoch 3\n",
      "Current epoch loss: 4.1779\n",
      "Epoch loss: 4.1758\n",
      "Epoch 4\n",
      "Current epoch loss: 4.1541\n",
      "Epoch loss: 4.1779\n",
      "Epoch 5\n",
      "Current epoch loss: 4.1140\n",
      "Epoch loss: 4.1541\n",
      "Epoch 6\n",
      "Current epoch loss: 4.1644\n",
      "Epoch loss: 4.1140\n",
      "Epoch 7\n",
      "Current epoch loss: 4.1617\n",
      "Epoch loss: 4.1644\n",
      "Epoch 8\n",
      "Current epoch loss: 4.1463\n",
      "Epoch loss: 4.1617\n",
      "Epoch 9\n",
      "Current epoch loss: 4.1802\n",
      "Epoch loss: 4.1463\n",
      "Epoch 10\n",
      "Current epoch loss: 4.1100\n",
      "Epoch loss: 4.1802\n",
      "Epoch 11\n",
      "Current epoch loss: 4.1014\n",
      "Epoch loss: 4.1100\n",
      "Epoch 12\n",
      "Current epoch loss: 4.0819\n",
      "Epoch loss: 4.1014\n",
      "Epoch 13\n",
      "Current epoch loss: 4.1457\n",
      "Epoch loss: 4.0819\n"
     ]
    }
   ],
   "source": [
    "batch_size = 8\n",
    "hidden_size = 8\n",
    "num_layers = 2\n",
    "num_classes = 2\n",
    "learning_rate = 0.0001\n",
    "num_epochs = 20\n",
    "sequence_length = 16 # column size. get rid of time unless time difference is consistent\n",
    "input_size = 352 # longest length of ti\n",
    "rnn = BiRNN(input_size, hidden_size, num_layers, num_classes)\n",
    "rnn.is_training = True\n",
    "\n",
    "data = fnirs(train_x, train_y)\n",
    "train_loader = torch.utils.data.DataLoader(data, batch_size=batch_size, shuffle=False)\n",
    "\n",
    "criterion = nn.CrossEntropyLoss()\n",
    "optimizer = torch.optim.Adam(rnn.parameters(), lr=learning_rate)\n",
    "\n",
    "epoch_loss = 5.\n",
    "    # Train it\n",
    "\n",
    "for epoch in range(num_epochs):\n",
    "    loss_total = 0.\n",
    "    iteration_count = 1.\n",
    "    print(\"Epoch %d\" % epoch)\n",
    "    for i, (data, label) in enumerate(train_loader):\n",
    "        data = Variable(data.view(-1, sequence_length, input_size))\n",
    "        #import pdb; pdb.set_trace()\n",
    "        #label = Variable(label.squeeze_())\n",
    "        #label = Variable(label.item())\n",
    "        #print(\"data shape:\")\n",
    "        #print(data.size())\n",
    "        #print(\"label shape:\")\n",
    "        #print(label.size())\n",
    "        #label = label.item()\n",
    "\n",
    "        # Forward + Backward + Optimize\n",
    "        optimizer.zero_grad()\n",
    "        outputs = rnn(data)\n",
    "\n",
    "        #import pdb; pdb.set_trace()\n",
    "        loss = criterion(outputs, label.squeeze_())\n",
    "        #import pdb; pdb.set_trace()\n",
    "        loss_total += loss.data\n",
    "        loss.backward()\n",
    "        optimizer.step()\n",
    "\n",
    "    current_epoch_loss = loss_total / iteration_count\n",
    "    print(\"Current epoch loss: %.4f\" % current_epoch_loss)\n",
    "    print(\"Epoch loss: %.4f\" % epoch_loss)\n",
    "    # Optimise training epochs: only continue training while the loss drops\n",
    "    if epoch > 10 and current_epoch_loss >= epoch_loss:\n",
    "        break\n",
    "    epoch_loss = current_epoch_loss\n",
    "        \n",
    "\n",
    "        "
   ]
  },
  {
   "cell_type": "code",
   "execution_count": null,
   "metadata": {},
   "outputs": [],
   "source": []
  },
  {
   "cell_type": "code",
   "execution_count": null,
   "metadata": {},
   "outputs": [],
   "source": []
  }
 ],
 "metadata": {
  "kernelspec": {
   "display_name": "Python 3",
   "language": "python",
   "name": "python3"
  },
  "language_info": {
   "codemirror_mode": {
    "name": "ipython",
    "version": 3
   },
   "file_extension": ".py",
   "mimetype": "text/x-python",
   "name": "python",
   "nbconvert_exporter": "python",
   "pygments_lexer": "ipython3",
   "version": "3.7.3"
  }
 },
 "nbformat": 4,
 "nbformat_minor": 2
}
